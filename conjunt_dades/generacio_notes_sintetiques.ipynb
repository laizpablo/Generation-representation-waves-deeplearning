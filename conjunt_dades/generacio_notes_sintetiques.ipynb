{
 "cells": [
  {
   "cell_type": "code",
   "execution_count": null,
   "metadata": {
    "collapsed": true
   },
   "outputs": [],
   "source": []
  },
  {
   "cell_type": "code",
   "execution_count": 1,
   "metadata": {
    "collapsed": false
   },
   "outputs": [
    {
     "name": "stdout",
     "output_type": "stream",
     "text": [
      "Populating the interactive namespace from numpy and matplotlib\n"
     ]
    }
   ],
   "source": [
    "%pylab inline"
   ]
  },
  {
   "cell_type": "code",
   "execution_count": 2,
   "metadata": {
    "collapsed": true
   },
   "outputs": [],
   "source": [
    "import scipy.constants as const\n",
    "import scipy\n",
    "from scipy.io import wavfile\n",
    "from IPython.core.display import HTML\n",
    "from __future__ import division"
   ]
  },
  {
   "cell_type": "markdown",
   "metadata": {},
   "source": [
    "## Generació de notes"
   ]
  },
  {
   "cell_type": "code",
   "execution_count": 3,
   "metadata": {
    "collapsed": true
   },
   "outputs": [],
   "source": [
    "import numpy as np\n",
    "## some consstant for our audio file \n",
    "\n",
    "rate = 16000 # in hz\n",
    "duration = 0.5 # in sec\n",
    "\n",
    "# this will give us sin with the righ amplitude to use with wav files\n",
    "normedsin = lambda f,t : 2**13*sin(2*pi*f*t)\n",
    "\n",
    "time = np.linspace(0,duration, num = rate*duration)"
   ]
  },
  {
   "cell_type": "code",
   "execution_count": 4,
   "metadata": {
    "collapsed": true
   },
   "outputs": [],
   "source": [
    "\n",
    "notes = {'Do3':130.812783, 'Do_s_3':138.591315, 'Re3':146.832384, 'Re_s_3':155.563492, 'Mi3':164.813778, 'Fa3':174.614116, 'Fa_s_3':184.997211, 'Sol3':195.997718, 'Sol_s_3':207.652349, 'La3':220.000000, 'La_s_3':233.081881, 'Si3':246.941651,\n",
    "'Do4':261.625565, 'Do_s_4':277.182631, 'Re4':293.664768, 'Re_s_4':311.126984, 'Mi4':329.627557, 'Fa4':349.228231, 'Fa_s_4':369.994423, 'Sol4':391.995436, 'Sol_s_4':415.304698, 'La4':440.000000, 'La_s_4':466.163762, 'Si4':493.883301,\n",
    "'Do5':523.251131, 'Do_s_5':554.365262, 'Re5':587.329536, 'Re_s_5':622.253967, 'Mi5':659.255114, 'Fa5':698.456463, 'Fa_s_5':739.988845, 'Sol5':783.990872, 'Sol_s_5':830.609395, 'La5':880.000000, 'La_s_5':932.327523, 'Si5':987.766603,\n",
    "'Do6':1046.502261, 'Do_s_6':1108.730524, 'Re6':1174.659072, 'Re_s_6':1244.507935, 'Mi6':1318.510228, 'Fa6':1396.912926, 'Fa_s_6':1479.977691, 'Sol6':1567.981744, 'Sol_s_6':1661.218790, 'La6':1760.000000, 'La_s_6':1864.655046, 'Si6':1975.533205,\n",
    "'Do7':2093.004522, 'Do_s_7':2217.461048, 'Re7':2349.318143, 'Re_s_7':2489.015870, 'Mi7':2637.020455, 'Fa7':2793.825851, 'Fa_s_7':2959.955382, 'Sol7':3135.963488, 'Sol_s_7':3322.437581, 'La7':3520.000000, 'La_s_7':3729.310092, 'Si7':3951.066410}"
   ]
  },
  {
   "cell_type": "code",
   "execution_count": 5,
   "metadata": {
    "collapsed": false
   },
   "outputs": [
    {
     "name": "stdout",
     "output_type": "stream",
     "text": [
      "Done\n"
     ]
    }
   ],
   "source": [
    "dict_notes = dict()\n",
    "for value in notes.items():\n",
    "    dict_notes[value[0]] = lambda t : normedsin(value[1],t)   \n",
    "\n",
    "    wavfile.write(value[0]+'.wav', rate, dict_notes[value[0]](time).astype(np.int16))\n",
    "print \"Done\""
   ]
  },
  {
   "cell_type": "markdown",
   "metadata": {
    "collapsed": false
   },
   "source": [
    "## Generació de combinacions de notes"
   ]
  },
  {
   "cell_type": "code",
   "execution_count": 15,
   "metadata": {
    "collapsed": true
   },
   "outputs": [],
   "source": [
    "rate = 16000 \n",
    "duration = 0.25 # in sec\n",
    "\n",
    "# this will give us sin with the righ amplitude to use with wav files\n",
    "normedsin = lambda f,t : 2**13*sin(2*pi*f*t)\n",
    "\n",
    "time = np.linspace(0,duration, num = rate*duration)\n",
    "\n",
    "notes = {'Do3':130.812783, 'Do_s_3':138.591315, 'Re3':146.832384, 'Re_s_3':155.563492, 'Mi3':164.813778, 'Fa3':174.614116, 'Fa_s_3':184.997211, 'Sol3':195.997718, 'Sol_s_3':207.652349, 'La3':220.000000, 'La_s_3':233.081881, 'Si3':246.941651,\n",
    "'Do4':261.625565, 'Do_s_4':277.182631, 'Re4':293.664768, 'Re_s_4':311.126984, 'Mi4':329.627557, 'Fa4':349.228231, 'Fa_s_4':369.994423, 'Sol4':391.995436, 'Sol_s_4':415.304698, 'La4':440.000000, 'La_s_4':466.163762, 'Si4':493.883301,\n",
    "'Do5':523.251131, 'Do_s_5':554.365262, 'Re5':587.329536, 'Re_s_5':622.253967, 'Mi5':659.255114, 'Fa5':698.456463, 'Fa_s_5':739.988845, 'Sol5':783.990872, 'Sol_s_5':830.609395, 'La5':880.000000, 'La_s_5':932.327523, 'Si5':987.766603}"
   ]
  },
  {
   "cell_type": "code",
   "execution_count": 16,
   "metadata": {
    "collapsed": false
   },
   "outputs": [
    {
     "name": "stdout",
     "output_type": "stream",
     "text": [
      "Done\n"
     ]
    }
   ],
   "source": [
    "dict_notes = dict()\n",
    "\n",
    "!mkdir combinacions2\n",
    "for value in notes.items():\n",
    "    dict_notes[value[0]] = (lambda t : normedsin(value[1],t))(time).astype(np.int16) \n",
    "\n",
    "for nota1 in dict_notes.items():\n",
    "    for nota2 in dict_notes.items():\n",
    "        values = np.concatenate((dict_notes[nota1[0]],\n",
    "                                   dict_notes[nota2[0]]),axis = 0)\n",
    "        wavfile.write('combinacions2/'+ nota1[0]+nota2[0]+'.wav', rate,values)\n",
    "\n",
    "print \"Done\""
   ]
  },
  {
   "cell_type": "markdown",
   "metadata": {},
   "source": [
    "## Combinació de tres notes"
   ]
  },
  {
   "cell_type": "code",
   "execution_count": 17,
   "metadata": {
    "collapsed": true
   },
   "outputs": [],
   "source": [
    "rate = 16000 \n",
    "duration = 0.5*1/3 # in sec\n",
    "\n",
    "# this will give us sin with the righ amplitude to use with wav files\n",
    "normedsin = lambda f,t : 2**13*sin(2*pi*f*t)\n",
    "\n",
    "time = np.linspace(0,duration, num = rate*duration)\n",
    "\n",
    "notes = {'Do3':130.812783, 'Do_s_3':138.591315, 'Re3':146.832384, 'Re_s_3':155.563492, 'Mi3':164.813778, 'Fa3':174.614116, 'Fa_s_3':184.997211, 'Sol3':195.997718, 'Sol_s_3':207.652349, 'La3':220.000000, 'La_s_3':233.081881, 'Si3':246.941651,\n",
    "'Do4':261.625565, 'Do_s_4':277.182631, 'Re4':293.664768, 'Re_s_4':311.126984, 'Mi4':329.627557, 'Fa4':349.228231, 'Fa_s_4':369.994423, 'Sol4':391.995436, 'Sol_s_4':415.304698, 'La4':440.000000, 'La_s_4':466.163762, 'Si4':493.883301,\n",
    "'Do5':523.251131, 'Do_s_5':554.365262, 'Re5':587.329536, 'Re_s_5':622.253967, 'Mi5':659.255114, 'Fa5':698.456463, 'Fa_s_5':739.988845, 'Sol5':783.990872, 'Sol_s_5':830.609395, 'La5':880.000000, 'La_s_5':932.327523, 'Si5':987.766603}"
   ]
  },
  {
   "cell_type": "code",
   "execution_count": 18,
   "metadata": {
    "collapsed": false
   },
   "outputs": [
    {
     "name": "stdout",
     "output_type": "stream",
     "text": [
      "Done\n"
     ]
    }
   ],
   "source": [
    "!mkdir combinacions\n",
    "for value in notes.items():\n",
    "    dict_notes[value[0]] = (lambda t : normedsin(value[1],t))(time).astype(np.int16) \n",
    "\n",
    "for nota1 in dict_notes.items():\n",
    "    for nota2 in dict_notes.items():\n",
    "        for nota3 in dict_notes.items():\n",
    "            values = np.concatenate((dict_notes[nota1[0]],\n",
    "                                   dict_notes[nota2[0]],\n",
    "                                    dict_notes[nota3[0]],\n",
    "                                    dict_notes[nota3[0]]),axis = 0)\n",
    "            wavfile.write('combinacions3/'+ nota1[0]+nota2[0]+nota3[0]+'.wav', rate,values)\n",
    "\n",
    "print \"Done\""
   ]
  },
  {
   "cell_type": "code",
   "execution_count": null,
   "metadata": {
    "collapsed": true
   },
   "outputs": [],
   "source": []
  }
 ],
 "metadata": {
  "anaconda-cloud": {},
  "kernelspec": {
   "display_name": "Python [conda root]",
   "language": "python",
   "name": "conda-root-py"
  },
  "language_info": {
   "codemirror_mode": {
    "name": "ipython",
    "version": 2
   },
   "file_extension": ".py",
   "mimetype": "text/x-python",
   "name": "python",
   "nbconvert_exporter": "python",
   "pygments_lexer": "ipython2",
   "version": "2.7.12"
  }
 },
 "nbformat": 4,
 "nbformat_minor": 1
}
